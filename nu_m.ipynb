{
 "cells": [
  {
   "cell_type": "code",
   "execution_count": 3,
   "id": "b4019293-0c26-4fe8-9f14-9d3c93f6d668",
   "metadata": {},
   "outputs": [
    {
     "name": "stdout",
     "output_type": "stream",
     "text": [
      "[1 2 3 4]\n"
     ]
    }
   ],
   "source": [
    "import numpy as np\n",
    "n = np.array([1, 2, 3, 4])\n",
    "print(n)"
   ]
  },
  {
   "cell_type": "code",
   "execution_count": 3,
   "id": "e9112981-89d7-46af-b2eb-f6386ea81ba8",
   "metadata": {},
   "outputs": [],
   "source": [
    "import numpy as np\n"
   ]
  },
  {
   "cell_type": "code",
   "execution_count": 6,
   "id": "7918cbaf-5498-46b9-9d3b-7a578ae0a88e",
   "metadata": {},
   "outputs": [
    {
     "data": {
      "text/plain": [
       "array([[4, 5, 7],\n",
       "       [5, 6, 1],\n",
       "       [8, 3, 1]])"
      ]
     },
     "execution_count": 6,
     "metadata": {},
     "output_type": "execute_result"
    }
   ],
   "source": [
    "\n",
    "min_val = np.array([[4, 5, 7],\n",
    "                   [5, 6, 1],\n",
    "                   [8, 3, 1]])\n",
    "min_val"
   ]
  },
  {
   "cell_type": "code",
   "execution_count": 8,
   "id": "325eccb3-2846-4831-bc6f-80a979a11ba6",
   "metadata": {},
   "outputs": [
    {
     "data": {
      "text/plain": [
       "array([4, 3, 1])"
      ]
     },
     "execution_count": 8,
     "metadata": {},
     "output_type": "execute_result"
    }
   ],
   "source": [
    "np.apply_along_axis(lambda x : np.min(x), arr = min_val, axis = 0)"
   ]
  },
  {
   "cell_type": "code",
   "execution_count": 10,
   "id": "38ebda36-8cda-4e14-8ce7-2e1262d96006",
   "metadata": {},
   "outputs": [
    {
     "data": {
      "text/plain": [
       "array([4, 1, 1])"
      ]
     },
     "execution_count": 10,
     "metadata": {},
     "output_type": "execute_result"
    }
   ],
   "source": [
    "np.apply_along_axis(lambda x : np.min(x), arr = min_val, axis = 1)"
   ]
  },
  {
   "cell_type": "code",
   "execution_count": 12,
   "id": "1e4a60a5-970a-4313-acf2-0450cbaecb32",
   "metadata": {},
   "outputs": [
    {
     "ename": "TypeError",
     "evalue": "apply_along_axis() missing 1 required positional argument: 'axis'",
     "output_type": "error",
     "traceback": [
      "\u001b[1;31m---------------------------------------------------------------------------\u001b[0m",
      "\u001b[1;31mTypeError\u001b[0m                                 Traceback (most recent call last)",
      "Cell \u001b[1;32mIn[12], line 1\u001b[0m\n\u001b[1;32m----> 1\u001b[0m np\u001b[38;5;241m.\u001b[39mapply_along_axis(\u001b[38;5;28;01mlambda\u001b[39;00m x : np\u001b[38;5;241m.\u001b[39mmin(x), arr \u001b[38;5;241m=\u001b[39m min_val)\n",
      "\u001b[1;31mTypeError\u001b[0m: apply_along_axis() missing 1 required positional argument: 'axis'"
     ]
    }
   ],
   "source": [
    "np.apply_along_axis(lambda x : np.min(x), arr = min_val)"
   ]
  },
  {
   "cell_type": "code",
   "execution_count": 16,
   "id": "f4af8b7b-c563-4cd1-b94f-8e52bf44199b",
   "metadata": {},
   "outputs": [
    {
     "data": {
      "text/plain": [
       "6.0"
      ]
     },
     "execution_count": 16,
     "metadata": {},
     "output_type": "execute_result"
    }
   ],
   "source": [
    "array_2d = np.array([[1, 2, 3],\n",
    "                     [10, 5, 6],\n",
    "                     [7, 8, 9]])\n",
    "np.mean(array_2d)\n",
    "np.median(array_2d)"
   ]
  },
  {
   "cell_type": "code",
   "execution_count": 19,
   "id": "95fe093d-f3d5-4ea9-bb78-933e65db2934",
   "metadata": {},
   "outputs": [
    {
     "data": {
      "text/plain": [
       "0      <built-in function sum>\n",
       "1    <built-in function print>\n",
       "2      <built-in function len>\n",
       "dtype: object"
      ]
     },
     "execution_count": 19,
     "metadata": {},
     "output_type": "execute_result"
    }
   ],
   "source": [
    "import pandas as pd\n",
    "pd.Series([sum, print, len])"
   ]
  },
  {
   "cell_type": "code",
   "execution_count": null,
   "id": "04dcc0ee-86f2-4ddf-b348-1a8483879e03",
   "metadata": {},
   "outputs": [],
   "source": []
  }
 ],
 "metadata": {
  "kernelspec": {
   "display_name": "Python 3 (ipykernel)",
   "language": "python",
   "name": "python3"
  },
  "language_info": {
   "codemirror_mode": {
    "name": "ipython",
    "version": 3
   },
   "file_extension": ".py",
   "mimetype": "text/x-python",
   "name": "python",
   "nbconvert_exporter": "python",
   "pygments_lexer": "ipython3",
   "version": "3.12.4"
  }
 },
 "nbformat": 4,
 "nbformat_minor": 5
}
