{
 "cells": [
  {
   "cell_type": "code",
   "execution_count": 7,
   "id": "863f5141-ea39-485d-9b51-c4b95e2f16bd",
   "metadata": {},
   "outputs": [
    {
     "name": "stdout",
     "output_type": "stream",
     "text": [
      "[36, 64]\n"
     ]
    }
   ],
   "source": [
    "# Write a Python function that takes a list of integers and returns a list of \n",
    "# squares of those integers but only for the even numbers in the original list.\n",
    "list = [i**2 for i in [1,3,5,6,7,8,9] if i % 2 == 0]\n",
    "print(list)"
   ]
  },
  {
   "cell_type": "code",
   "execution_count": 13,
   "id": "4950239c-aac3-406c-a4a2-2abc12e8b73f",
   "metadata": {},
   "outputs": [
    {
     "name": "stdout",
     "output_type": "stream",
     "text": [
      "{1: ['a', 'c'], 2: ['b', 'e'], 3: ['d']}\n"
     ]
    }
   ],
   "source": [
    "# Given a list of tuples, each containing two elements (a, b),\n",
    "# write a Python function that returns a dictionary where the keys are the \n",
    "# first elements (a) and the values are lists of the corresponding second \n",
    "# elements (b)  \n",
    "# Output: {1: ['a', 'c'], 2: ['b', 'e'], 3: ['d']}\n",
    "def dic_t(tuples_list):\n",
    "    result = {}\n",
    "    {result.setdefault(i, []).append(j) for i, j in tuples_list}\n",
    "    return result\n",
    "\n",
    "tuples_list = [(1, 'a'), (2, 'b'), (1, 'c'), (3, 'd'), (2, 'e')]\n",
    "a = dic_t(tuples_list)\n",
    "print(a)"
   ]
  },
  {
   "cell_type": "code",
   "execution_count": 19,
   "id": "816f4ca6-7573-4441-a1df-cb2f7991d2a8",
   "metadata": {},
   "outputs": [
    {
     "name": "stdout",
     "output_type": "stream",
     "text": [
      "{'d': 6, 'b': [2, 4], 'c': [3, 5], 'a': 1}\n"
     ]
    }
   ],
   "source": [
    "def merge_dicts(dict1, dict2):\n",
    "    # Create a dictionary with values combined as lists\n",
    "    combined_dict = {\n",
    "        key: ([dict1[key]] if key in dict1 else []) + ([dict2[key]] if key in dict2 else [])\n",
    "        for key in dict1.keys() | dict2.keys()\n",
    "    }\n",
    "    \n",
    "    # Convert single-item lists to single values\n",
    "    return {key: value[0] if len(value) == 1 else value for key, value in combined_dict.items()}\n",
    "\n",
    "# Example usage\n",
    "dict1 = {'a': 1, 'b': 2, 'c': 3}\n",
    "dict2 = {'b': 4, 'c': 5, 'd': 6}\n",
    "output = merge_dicts(dict1, dict2)\n",
    "print(output)  # Output: {'a': 1, 'b': [2, 4], 'c': [3, 5], 'd': 6}"
   ]
  },
  {
   "cell_type": "code",
   "execution_count": 101,
   "id": "6f23a6f2-b0c2-4e0b-9f00-4a15d0545c21",
   "metadata": {},
   "outputs": [
    {
     "name": "stdout",
     "output_type": "stream",
     "text": [
      "{'d': 6, 'b': [2, 4], 'c': [3, 5], 'a': 1}\n"
     ]
    }
   ],
   "source": [
    "# How would you merge two dictionaries in Python, such that the values \n",
    "# for common keys are combined into a list? Provide a function to \n",
    "# demonstrate this. \n",
    "# Ex: dict1 = {'a': 1, 'b': 2, 'c': 3}   dict2 = {'b': 4, 'c': 5, 'd': 6} \n",
    "# Output: {'a': 1, 'b': [2, 4], 'c': [3, 5], 'd': 6}\n",
    "def mer_ge(dict1, dict2):\n",
    "   \n",
    "    merge = {k:([dict1[k]] if k in dict1 else []) + ([dict2[k]] if k in dict2 else []) for k in dict1.keys()|dict2.keys()}\n",
    "    m_d = {i:j[0] if len(j) == 1 else j for i,j in merge.items()}\n",
    "  \n",
    "    print(m_d)\n",
    "dict1 = {'a': 1, 'b': 2, 'c': 3}   \n",
    "dict2 = {'b': 4, 'c': 5, 'd': 6}\n",
    "mer_ge(dict1, dict2)"
   ]
  },
  {
   "cell_type": "code",
   "execution_count": null,
   "id": "03928e85-2c0f-4925-be99-63c8eacfdc7d",
   "metadata": {},
   "outputs": [],
   "source": [
    "Create a Python program that reads a CSV file containing user data (name, age, email) and\n",
    "writes each row to a separate text file named after the user’s name"
   ]
  },
  {
   "cell_type": "code",
   "execution_count": 60,
   "id": "9e9fa914-09eb-4804-a6a2-62d274720fb0",
   "metadata": {},
   "outputs": [
    {
     "name": "stdout",
     "output_type": "stream",
     "text": [
      "File is saved to folder\n"
     ]
    }
   ],
   "source": [
    "# Create a text file, add some text into it and save it to a specific folder using Python's code and os modules? \n",
    "# with open(\"new.txt\", 'w') as file:\n",
    "#     file.write(\"This is the new file\")\n",
    "# import os\n",
    "# os.mkdir(\"news\")\n",
    "os.path.join(\"news\", \"new.txt\")\n",
    "print(\"File is saved to folder\")"
   ]
  },
  {
   "cell_type": "code",
   "execution_count": 71,
   "id": "4b48ab2b-89b2-4e3d-8866-d0e221e1ff62",
   "metadata": {},
   "outputs": [
    {
     "data": {
      "text/plain": [
       "'new\\\\ne.txt'"
      ]
     },
     "execution_count": 71,
     "metadata": {},
     "output_type": "execute_result"
    }
   ],
   "source": [
    "import shutil\n",
    "# with open(\"ne.txt\", 'w') as file:\n",
    "#     file.write(\"This is the new file\")\n",
    "# import os\n",
    "# os.mkdir(\"new\")\n",
    "# os.path.join(\"new\", \"ne.txt\")\n",
    "# print(\"File is saved to folder\")\n",
    "shutil.move(\"ne.txt\", \"new\")"
   ]
  },
  {
   "cell_type": "code",
   "execution_count": 73,
   "id": "f6063c53-cfb3-4a11-ae07-7ee7b87d8041",
   "metadata": {},
   "outputs": [
    {
     "data": {
      "text/plain": [
       "[1, 2, 3, 4]"
      ]
     },
     "execution_count": 73,
     "metadata": {},
     "output_type": "execute_result"
    }
   ],
   "source": [
    "#  Write a Python function that takes a list of strings representing numbers and\n",
    "# returns a list of those numbers as integers. \n",
    "a = ['1', '2', '3', '4']\n",
    "[int(i) for i in a]"
   ]
  },
  {
   "cell_type": "code",
   "execution_count": 85,
   "id": "9c9db73d-0455-43e8-9d1a-83bca51b4bc1",
   "metadata": {},
   "outputs": [
    {
     "name": "stdout",
     "output_type": "stream",
     "text": [
      "Name:Rasveen\n",
      "Salary:40000\n",
      "pro_loan:Python\n",
      "year:4\n"
     ]
    }
   ],
   "source": [
    "class Employee:\n",
    "    def __init__(self, name, salary):\n",
    "        self.name = name\n",
    "        self.salary = salary\n",
    "\n",
    "    def update(self):\n",
    "        pass\n",
    "\n",
    "class Developer(Employee):\n",
    "    def __init__(self, pro_lan):\n",
    "        self.pro_lan = pro_lan\n",
    "\n",
    "    def update(self):\n",
    "        pass\n",
    "\n",
    "class se_dev(Developer):\n",
    "    def __init__(self,  name, salary, pro_lan, year):\n",
    "        Employee.__init__(self, name, salary)\n",
    "        Developer.__init__(self, pro_lan)\n",
    "        self.year = year\n",
    "\n",
    "    def update(self):\n",
    "        print(f\"Name:{self.name}\")\n",
    "        print(f\"Salary:{self.salary}\")\n",
    "        print(f\"pro_loan:{self.pro_lan}\")\n",
    "        print(f\"year:{self.year}\")\n",
    "\n",
    "s = se_dev(\"Rasveen\", 40000, \"Python\", 4)\n",
    "s.update()\n"
   ]
  },
  {
   "cell_type": "code",
   "execution_count": 91,
   "id": "25c10acf-237d-4c2e-bfc1-841326be85ee",
   "metadata": {},
   "outputs": [
    {
     "name": "stdout",
     "output_type": "stream",
     "text": [
      "HiRehana\n"
     ]
    }
   ],
   "source": [
    "# Write a Python program that removes all whitespace characters (spaces, tabs, newlines) from a given string \n",
    "str1 = \"Hi Rehana\"\n",
    "print(\"\".join(str1.split()))"
   ]
  },
  {
   "cell_type": "code",
   "execution_count": 99,
   "id": "feec368d-72bd-4557-9b04-20f45a23a044",
   "metadata": {},
   "outputs": [
    {
     "name": "stdout",
     "output_type": "stream",
     "text": [
      "83\n"
     ]
    }
   ],
   "source": [
    "# students = { 'student1': {'scores': [85, 90, 95]}, 'student2': {'scores': [78, 88, 84]},\n",
    "# 'student3': {'scores': [92, 94, 89]} } How would you compute the average score for student2? \n",
    "\n",
    "students = { 'student1': {'scores': [85, 90, 95]}, 'student2': {'scores': [78, 88, 84]}, 'student3': {'scores': [92, 94, 89]} } \n",
    "a = students['student2']['scores']\n",
    "b = sum(a)//len(a)\n",
    "print(b)"
   ]
  },
  {
   "cell_type": "code",
   "execution_count": null,
   "id": "dccaa829-fb2b-4bee-acd8-aa049227358e",
   "metadata": {},
   "outputs": [],
   "source": [
    "# three disadvantages of Python\n",
    "speed limitation\n",
    "design restriction\n",
    "poor multithreading"
   ]
  },
  {
   "cell_type": "code",
   "execution_count": 103,
   "id": "1870eb34-a71a-4c6f-8150-16da87ea23aa",
   "metadata": {},
   "outputs": [
    {
     "ename": "FileNotFoundError",
     "evalue": "[Errno 2] No such file or directory: 'users.csv'",
     "output_type": "error",
     "traceback": [
      "\u001b[1;31m---------------------------------------------------------------------------\u001b[0m",
      "\u001b[1;31mFileNotFoundError\u001b[0m                         Traceback (most recent call last)",
      "Cell \u001b[1;32mIn[103], line 17\u001b[0m\n\u001b[0;32m     15\u001b[0m \u001b[38;5;66;03m# Example usage\u001b[39;00m\n\u001b[0;32m     16\u001b[0m csv_file_path \u001b[38;5;241m=\u001b[39m \u001b[38;5;124m'\u001b[39m\u001b[38;5;124musers.csv\u001b[39m\u001b[38;5;124m'\u001b[39m\n\u001b[1;32m---> 17\u001b[0m csv_to_text_files(csv_file_path)\n",
      "Cell \u001b[1;32mIn[103], line 4\u001b[0m, in \u001b[0;36mcsv_to_text_files\u001b[1;34m(csv_file)\u001b[0m\n\u001b[0;32m      3\u001b[0m \u001b[38;5;28;01mdef\u001b[39;00m \u001b[38;5;21mcsv_to_text_files\u001b[39m(csv_file):\n\u001b[1;32m----> 4\u001b[0m     \u001b[38;5;28;01mwith\u001b[39;00m \u001b[38;5;28mopen\u001b[39m(csv_file, mode\u001b[38;5;241m=\u001b[39m\u001b[38;5;124m'\u001b[39m\u001b[38;5;124mr\u001b[39m\u001b[38;5;124m'\u001b[39m, newline\u001b[38;5;241m=\u001b[39m\u001b[38;5;124m'\u001b[39m\u001b[38;5;124m'\u001b[39m, encoding\u001b[38;5;241m=\u001b[39m\u001b[38;5;124m'\u001b[39m\u001b[38;5;124mutf-8\u001b[39m\u001b[38;5;124m'\u001b[39m) \u001b[38;5;28;01mas\u001b[39;00m file:\n\u001b[0;32m      5\u001b[0m         reader \u001b[38;5;241m=\u001b[39m csv\u001b[38;5;241m.\u001b[39mDictReader(file)\n\u001b[0;32m      6\u001b[0m         \u001b[38;5;28;01mfor\u001b[39;00m row \u001b[38;5;129;01min\u001b[39;00m reader:\n",
      "File \u001b[1;32m~\\anaconda3\\Lib\\site-packages\\IPython\\core\\interactiveshell.py:324\u001b[0m, in \u001b[0;36m_modified_open\u001b[1;34m(file, *args, **kwargs)\u001b[0m\n\u001b[0;32m    317\u001b[0m \u001b[38;5;28;01mif\u001b[39;00m file \u001b[38;5;129;01min\u001b[39;00m {\u001b[38;5;241m0\u001b[39m, \u001b[38;5;241m1\u001b[39m, \u001b[38;5;241m2\u001b[39m}:\n\u001b[0;32m    318\u001b[0m     \u001b[38;5;28;01mraise\u001b[39;00m \u001b[38;5;167;01mValueError\u001b[39;00m(\n\u001b[0;32m    319\u001b[0m         \u001b[38;5;124mf\u001b[39m\u001b[38;5;124m\"\u001b[39m\u001b[38;5;124mIPython won\u001b[39m\u001b[38;5;124m'\u001b[39m\u001b[38;5;124mt let you open fd=\u001b[39m\u001b[38;5;132;01m{\u001b[39;00mfile\u001b[38;5;132;01m}\u001b[39;00m\u001b[38;5;124m by default \u001b[39m\u001b[38;5;124m\"\u001b[39m\n\u001b[0;32m    320\u001b[0m         \u001b[38;5;124m\"\u001b[39m\u001b[38;5;124mas it is likely to crash IPython. If you know what you are doing, \u001b[39m\u001b[38;5;124m\"\u001b[39m\n\u001b[0;32m    321\u001b[0m         \u001b[38;5;124m\"\u001b[39m\u001b[38;5;124myou can use builtins\u001b[39m\u001b[38;5;124m'\u001b[39m\u001b[38;5;124m open.\u001b[39m\u001b[38;5;124m\"\u001b[39m\n\u001b[0;32m    322\u001b[0m     )\n\u001b[1;32m--> 324\u001b[0m \u001b[38;5;28;01mreturn\u001b[39;00m io_open(file, \u001b[38;5;241m*\u001b[39margs, \u001b[38;5;241m*\u001b[39m\u001b[38;5;241m*\u001b[39mkwargs)\n",
      "\u001b[1;31mFileNotFoundError\u001b[0m: [Errno 2] No such file or directory: 'users.csv'"
     ]
    }
   ],
   "source": [
    "# Create a Python program that reads a CSV file containing user data (name, age, email) and\n",
    "# writes each row to a separate text file named after the user’s name\n",
    "import os\n",
    "import csv\n",
    "def csv_to_text_files(csv_file):\n",
    "    with open(csv_file, mode='r', newline='', encoding='utf-8') as file:\n",
    "        reader = csv.DictReader(file)\n",
    "        for row in reader:\n",
    "            name = row['name'].replace(' ', '_')  # Replace spaces with underscores for filename\n",
    "            file_path = f\"{name}.txt\"\n",
    "            with open(file_path, 'w', encoding='utf-8') as text_file:\n",
    "                text_file.write(f\"Name: {row['name']}\\n\")\n",
    "                text_file.write(f\"Age: {row['age']}\\n\")\n",
    "                text_file.write(f\"Email: {row['email']}\\n\")\n",
    "            print(f\"File '{file_path}' created.\")\n",
    "\n",
    "# Example usage\n",
    "csv_file_path = 'users.csv'\n",
    "csv_to_text_files(csv_file_path)"
   ]
  },
  {
   "cell_type": "code",
   "execution_count": 135,
   "id": "85acda31-abd9-4428-8bb8-06d16b5242ff",
   "metadata": {},
   "outputs": [
    {
     "ename": "KeyError",
     "evalue": "'name'",
     "output_type": "error",
     "traceback": [
      "\u001b[1;31m---------------------------------------------------------------------------\u001b[0m",
      "\u001b[1;31mKeyError\u001b[0m                                  Traceback (most recent call last)",
      "Cell \u001b[1;32mIn[135], line 14\u001b[0m\n\u001b[0;32m     11\u001b[0m reader \u001b[38;5;241m=\u001b[39m csv\u001b[38;5;241m.\u001b[39mDictReader(file)\n\u001b[0;32m     12\u001b[0m \u001b[38;5;28;01mfor\u001b[39;00m row \u001b[38;5;129;01min\u001b[39;00m reader:\n\u001b[0;32m     13\u001b[0m   \u001b[38;5;66;03m# print(row)\u001b[39;00m\n\u001b[1;32m---> 14\u001b[0m     file_name \u001b[38;5;241m=\u001b[39m \u001b[38;5;124mf\u001b[39m\u001b[38;5;124m\"\u001b[39m\u001b[38;5;132;01m{\u001b[39;00mrow[\u001b[38;5;124m'\u001b[39m\u001b[38;5;124mname\u001b[39m\u001b[38;5;124m'\u001b[39m]\u001b[38;5;241m.\u001b[39mreplace(\u001b[38;5;124m'\u001b[39m\u001b[38;5;124m \u001b[39m\u001b[38;5;124m'\u001b[39m,\u001b[38;5;250m \u001b[39m\u001b[38;5;124m'\u001b[39m\u001b[38;5;124m_\u001b[39m\u001b[38;5;124m'\u001b[39m)\u001b[38;5;132;01m}\u001b[39;00m\u001b[38;5;124m.txt\u001b[39m\u001b[38;5;124m\"\u001b[39m  \u001b[38;5;66;03m# Replace spaces with underscores\u001b[39;00m\n\u001b[0;32m     15\u001b[0m     file_path \u001b[38;5;241m=\u001b[39m os\u001b[38;5;241m.\u001b[39mpath\u001b[38;5;241m.\u001b[39mjoin(\u001b[38;5;124m'\u001b[39m\u001b[38;5;124moutput_files\u001b[39m\u001b[38;5;124m'\u001b[39m, file_name) \n\u001b[0;32m     16\u001b[0m     os\u001b[38;5;241m.\u001b[39mmakedirs(os\u001b[38;5;241m.\u001b[39mpath\u001b[38;5;241m.\u001b[39mdirname(file_path), exist_ok\u001b[38;5;241m=\u001b[39m\u001b[38;5;28;01mTrue\u001b[39;00m)\n",
      "\u001b[1;31mKeyError\u001b[0m: 'name'"
     ]
    }
   ],
   "source": [
    "import csv\n",
    "row0 = ['Vino', 20 , \"vino@gmail.com\"]\n",
    "row1 = ['Ranju', 20, \"ranju@gmail.com\"]\n",
    "row2 = ['Heena', 21, \"heena@gmail.com\"]\n",
    "with open('university_records.csv', 'a') as csv_file:\n",
    "    writer = csv.writer(csv_file)\n",
    "    writer.writerow(row0)\n",
    "    writer.writerow(row1)\n",
    "    writer.writerow(row2)\n",
    "with open('university_records.csv', mode='r', newline='') as file:\n",
    "          reader = csv.DictReader(file)\n",
    "          for row in reader:\n",
    "            # print(row)\n",
    "              file_name = f\"{row['name'].replace(' ', '_')}.txt\"  # Replace spaces with underscores\n",
    "              file_path = os.path.join('output_files', file_name) \n",
    "              os.makedirs(os.path.dirname(file_path), exist_ok=True)\n",
    "              with open(file_path, 'w', encoding='utf-8') as text_file:\n",
    "                  text_file.write(f\"Name: {row['name']}\\n\")\n",
    "                  text_file.write(f\"Age: {row['age']}\\n\")\n",
    "                  text_file.write(f\"Email: {row['email']}\\n\")\n",
    "              print(f\"File '{file_path}' created.\")"
   ]
  },
  {
   "cell_type": "code",
   "execution_count": null,
   "id": "782773c0-09a9-4d94-94b3-c90541f094f5",
   "metadata": {},
   "outputs": [],
   "source": [
    "import json\n",
    "\n",
    "def text_to_json(text_file, json_file):\n",
    "    combined_dict = {}\n",
    "    \n",
    "    # Read the text file line by line\n",
    "    with open(text_file, 'r', encoding='utf-8') as file:\n",
    "        for line in file:\n",
    "            # Split each line into key and value\n",
    "            key, value = line.strip().split('=', 1)\n",
    "            combined_dict[key] = value\n",
    "    \n",
    "    # Write the combined dictionary to a JSON file\n",
    "    with open(json_file, 'w', encoding='utf-8') as file:\n",
    "        json.dump(combined_dict, file, indent=4)\n",
    "\n",
    "# Example usage\n",
    "text_file_path = 'data.txt'\n",
    "json_file_path = 'data.json'\n",
    "text_to_json(text_file_path, json_file_path)"
   ]
  }
 ],
 "metadata": {
  "kernelspec": {
   "display_name": "Python 3 (ipykernel)",
   "language": "python",
   "name": "python3"
  },
  "language_info": {
   "codemirror_mode": {
    "name": "ipython",
    "version": 3
   },
   "file_extension": ".py",
   "mimetype": "text/x-python",
   "name": "python",
   "nbconvert_exporter": "python",
   "pygments_lexer": "ipython3",
   "version": "3.12.4"
  }
 },
 "nbformat": 4,
 "nbformat_minor": 5
}
