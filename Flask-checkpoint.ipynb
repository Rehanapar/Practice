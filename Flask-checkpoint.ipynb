{
 "cells": [
  {
   "cell_type": "code",
   "execution_count": 40,
   "id": "c73ff0b0-9ceb-4860-8d3f-f7cb507f04a5",
   "metadata": {},
   "outputs": [
    {
     "name": "stdout",
     "output_type": "stream",
     "text": [
      "Application Programm\n"
     ]
    }
   ],
   "source": [
    "txt_file = \"py_file.txt\"\n",
    "# with open(txt_file, 'w') as file:\n",
    "#     file.write(\"Application Programming Interface\")\n",
    "# with open(txt_file, 'r') as file:    \n",
    "#     print(file.read())\n",
    "# with open(txt_file, 'a') as file:\n",
    "#     file.write('\\nWeb Development')\n",
    "# with open(txt_file, 'r') as file:    \n",
    "#     print(file.read())\n",
    "# with open(txt_file, 'a') as file:\n",
    "#     file.write('\\nApp Development\\nCloud service\\nRPA Develper')\n",
    "# with open(txt_file, 'r') as file:    \n",
    "#     print(file.read(20))\n",
    "with open(txt_file, 'w') as file:\n",
    "    file.write('This is new content.')"
   ]
  },
  {
   "cell_type": "code",
   "execution_count": 2,
   "id": "b24cb6a0-e42a-42ee-9907-3ce98d8b476c",
   "metadata": {},
   "outputs": [
    {
     "name": "stdout",
     "output_type": "stream",
     "text": [
      "File has created\n"
     ]
    }
   ],
   "source": [
    "a = \"App.txt\"\n",
    "with open(a, 'w') as app:\n",
    "    pass\n",
    "print(\"File has created\")"
   ]
  },
  {
   "cell_type": "code",
   "execution_count": 46,
   "id": "a9a0d00f-c484-49ee-9af2-d00f4f69c5d4",
   "metadata": {},
   "outputs": [
    {
     "data": {
      "text/plain": [
       "[1, 2, 3, 4, 5, 6, 7, 8, 9]"
      ]
     },
     "execution_count": 46,
     "metadata": {},
     "output_type": "execute_result"
    }
   ],
   "source": [
    "# Given a matrix (a list of lists), flatten it into a single list.\n",
    "matrix = [[1, 2, 3], [4, 5, 6], [7, 8, 9]]\n",
    "[i for a in matrix for i in a]"
   ]
  },
  {
   "cell_type": "code",
   "execution_count": 48,
   "id": "9232bfca-317f-4da4-9c49-70303f931b8a",
   "metadata": {},
   "outputs": [
    {
     "data": {
      "text/plain": [
       "[1, 9, 25, 49, 81, 121, 169, 225, 289, 361]"
      ]
     },
     "execution_count": 48,
     "metadata": {},
     "output_type": "execute_result"
    }
   ],
   "source": [
    " # Generate a list of squares of odd numbers from 1 to 20.\n",
    "[i**2 for i in range(1, 20) if i%2!=0]"
   ]
  },
  {
   "cell_type": "code",
   "execution_count": 50,
   "id": "7a7e340d-da14-456b-b702-e3a32ae500eb",
   "metadata": {},
   "outputs": [
    {
     "data": {
      "text/plain": [
       "[1, 2, 3, 4]"
      ]
     },
     "execution_count": 50,
     "metadata": {},
     "output_type": "execute_result"
    }
   ],
   "source": [
    "string = \"a1b2c3d4\"\n",
    "[int(i) for i in string if i.isdigit()]"
   ]
  },
  {
   "cell_type": "code",
   "execution_count": 54,
   "id": "f861d391-e1de-45a8-8288-6cc559687f68",
   "metadata": {},
   "outputs": [
    {
     "data": {
      "text/plain": [
       "['radar', 'level']"
      ]
     },
     "execution_count": 54,
     "metadata": {},
     "output_type": "execute_result"
    }
   ],
   "source": [
    "# Given a list of words, create a list of palindromes \n",
    "# (words that read the same forwards and backwards).python Copy code\n",
    "words = ['radar', 'hello', 'level', 'world']\n",
    "[i for i in words if i==i[::-1]]"
   ]
  },
  {
   "cell_type": "code",
   "execution_count": 56,
   "id": "979e4551-49c6-457a-902a-f7b71b1db2d4",
   "metadata": {},
   "outputs": [
    {
     "data": {
      "text/plain": [
       "[[1, 2, 3, 4, 5],\n",
       " [2, 4, 6, 8, 10],\n",
       " [3, 6, 9, 12, 15],\n",
       " [4, 8, 12, 16, 20],\n",
       " [5, 10, 15, 20, 25]]"
      ]
     },
     "execution_count": 56,
     "metadata": {},
     "output_type": "execute_result"
    }
   ],
   "source": [
    "# Create a multiplication table from 1 to 5 using nested list comprehension.\n",
    "[[i*j for j in range(1, 6)]for i in range(1, 6)]"
   ]
  },
  {
   "cell_type": "code",
   "execution_count": 60,
   "id": "c14ceb57-faa0-41d3-8d96-0aaec79d8296",
   "metadata": {},
   "outputs": [
    {
     "data": {
      "text/plain": [
       "['ELEPHANT']"
      ]
     },
     "execution_count": 60,
     "metadata": {},
     "output_type": "execute_result"
    }
   ],
   "source": [
    "# Given a list of words, filter out those with more than 3 letters and\n",
    "# convert the remaining words to uppercase.\n",
    "words = ['cat', 'dog', 'elephant', 'fox']\n",
    "[i.upper() for i in words if len(i)>3]"
   ]
  },
  {
   "cell_type": "code",
   "execution_count": 64,
   "id": "e69293d6-c4c2-4800-94d0-1b9173b718a5",
   "metadata": {},
   "outputs": [
    {
     "data": {
      "text/plain": [
       "[4, 10, 18]"
      ]
     },
     "execution_count": 64,
     "metadata": {},
     "output_type": "execute_result"
    }
   ],
   "source": [
    "# Given two lists of numbers, create a list of tuples where each tuple contains the\n",
    "# product of corresponding elements from the two lists.\n",
    "list1 = [1, 2, 3]\n",
    "list2 = [4, 5, 6]\n",
    "[x * y for x, y in zip(list1, list2)]"
   ]
  },
  {
   "cell_type": "code",
   "execution_count": 70,
   "id": "a4543c91-eba0-4a1a-aff8-c1d3bc4f5476",
   "metadata": {},
   "outputs": [
    {
     "data": {
      "text/plain": [
       "['hll', 'wrld', 'pythn']"
      ]
     },
     "execution_count": 70,
     "metadata": {},
     "output_type": "execute_result"
    }
   ],
   "source": [
    "# Given a list of words, remove all vowels from each word\n",
    "words = ['hello', 'world', 'python']\n",
    "v = \"aeiou\"\n",
    "[\"\".join([char for char in i if char not in v]) for i in words]"
   ]
  },
  {
   "cell_type": "code",
   "execution_count": 82,
   "id": "72e686e9-3743-4308-981b-87ef83cf18bf",
   "metadata": {},
   "outputs": [
    {
     "data": {
      "text/plain": [
       "[[1, 4, 7], [2, 5, 8], [3, 6, 9]]"
      ]
     },
     "execution_count": 82,
     "metadata": {},
     "output_type": "execute_result"
    }
   ],
   "source": [
    "# Transpose a matrix (swap rows and columns) using list comprehension.\n",
    "matrix = [[1, 2, 3], [4, 5, 6], [7, 8, 9]]\n",
    "[[j[i] for j in matrix] for i in range(len(matrix[0]))]"
   ]
  },
  {
   "cell_type": "code",
   "execution_count": 88,
   "id": "70e8fa5f-03f5-4da4-8981-da872e6a4c19",
   "metadata": {},
   "outputs": [
    {
     "data": {
      "text/plain": [
       "{0, 1, 4, 9, 16, 25, 36, 49, 64, 81, 100}"
      ]
     },
     "execution_count": 88,
     "metadata": {},
     "output_type": "execute_result"
    }
   ],
   "source": [
    "# Generate a set of unique squares of numbers from -10 to 10.\n",
    "{i**2 for i in range(-10, 11)}"
   ]
  },
  {
   "cell_type": "code",
   "execution_count": 92,
   "id": "59ae8b02-d3ca-4482-87a2-8a846c5d04c8",
   "metadata": {},
   "outputs": [
    {
     "data": {
      "text/plain": [
       "{3, 4, 5}"
      ]
     },
     "execution_count": 92,
     "metadata": {},
     "output_type": "execute_result"
    }
   ],
   "source": [
    "# Given two lists, create a set of elements that are common to both lists.\n",
    "list1 = [1, 2, 3, 4, 5]\n",
    "list2 = [3, 4, 5, 6, 7]\n",
    "{i for i in list1 if i in list2}"
   ]
  },
  {
   "cell_type": "code",
   "execution_count": 94,
   "id": "249367c6-d2ce-4f99-a3c3-2d87527b7735",
   "metadata": {},
   "outputs": [
    {
     "data": {
      "text/plain": [
       "{'e', 'o'}"
      ]
     },
     "execution_count": 94,
     "metadata": {},
     "output_type": "execute_result"
    }
   ],
   "source": [
    "# Create a set of vowels found in a given string.\n",
    "string = \"hello world\"\n",
    "vowels = {'a', 'e', 'i', 'o', 'u'}\n",
    "{i for i in string if i in vowels}"
   ]
  },
  {
   "cell_type": "code",
   "execution_count": 106,
   "id": "d974e33a-e7a2-407c-a5c9-24d4b6104068",
   "metadata": {},
   "outputs": [
    {
     "data": {
      "text/plain": [
       "{'hello', 'world'}"
      ]
     },
     "execution_count": 106,
     "metadata": {},
     "output_type": "execute_result"
    }
   ],
   "source": [
    "# Given a sentence, create a set of unique words, ignoring case sensitivity.\n",
    "sentence = \"Hello world hello\"\n",
    "{word.lower() for word in sentence.split()}"
   ]
  },
  {
   "cell_type": "code",
   "execution_count": 110,
   "id": "15dcc99c-7301-4d9c-97d1-f89eb277429c",
   "metadata": {},
   "outputs": [
    {
     "data": {
      "text/plain": [
       "{'a', 'b', 'c', 'g', 'h', 'i'}"
      ]
     },
     "execution_count": 110,
     "metadata": {},
     "output_type": "execute_result"
    }
   ],
   "source": [
    "string1 = \"abcdef\"\n",
    "string2 = \"defghi\"\n",
    "{i for i in string1 if i not in string2}|{char for char in string2 if char not in string1}"
   ]
  },
  {
   "cell_type": "code",
   "execution_count": 112,
   "id": "b230f438-9306-4884-bb43-f85b80f2dbf2",
   "metadata": {},
   "outputs": [
    {
     "data": {
      "text/plain": [
       "{3, 4, 5, 6}"
      ]
     },
     "execution_count": 112,
     "metadata": {},
     "output_type": "execute_result"
    }
   ],
   "source": [
    "# Given a list of words, create a set of unique lengths of those words.\n",
    "words = [\"apple\", \"banana\", \"cherry\", \"date\", \"fig\"]\n",
    "{len(i) for i in words}"
   ]
  },
  {
   "cell_type": "code",
   "execution_count": 116,
   "id": "8fdca1fa-f58c-4334-bc84-4cf54793457c",
   "metadata": {},
   "outputs": [
    {
     "data": {
      "text/plain": [
       "{0, 1, 2, 3, 4, 5, 6, 7, 8, 9, 11, 22, 33, 44, 55, 66, 77, 88, 99}"
      ]
     },
     "execution_count": 116,
     "metadata": {},
     "output_type": "execute_result"
    }
   ],
   "source": [
    "# Generate a set of numbers between 0 and 100 that are palindromes.\n",
    "{i for i in range(0, 101) if str(i) == str(i)[::-1]}"
   ]
  },
  {
   "cell_type": "code",
   "execution_count": null,
   "id": "fd9cc83a-8ffd-496c-b1df-1b8efd4699b3",
   "metadata": {},
   "outputs": [],
   "source": [
    "# Given a list of strings, create a set of characters that are present in all\n",
    "# strings.\n",
    "strings = [\"hello\", \"help\", \"helicopter\"]\n",
    "common_chars = {char for char in strings[0] if all(char in s for s in strings[1:])}"
   ]
  }
 ],
 "metadata": {
  "kernelspec": {
   "display_name": "Python 3 (ipykernel)",
   "language": "python",
   "name": "python3"
  },
  "language_info": {
   "codemirror_mode": {
    "name": "ipython",
    "version": 3
   },
   "file_extension": ".py",
   "mimetype": "text/x-python",
   "name": "python",
   "nbconvert_exporter": "python",
   "pygments_lexer": "ipython3",
   "version": "3.12.4"
  }
 },
 "nbformat": 4,
 "nbformat_minor": 5
}
