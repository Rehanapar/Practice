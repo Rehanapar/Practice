{
 "cells": [
  {
   "cell_type": "code",
   "execution_count": 11,
   "id": "289816c6-416f-4139-ab10-49ea7182d047",
   "metadata": {},
   "outputs": [
    {
     "name": "stdout",
     "output_type": "stream",
     "text": [
      "[1, 2, 3, 20, 25]\n"
     ]
    }
   ],
   "source": [
    "num = [1, 2 , 3, 4, 5]\n",
    "fil = [i*5  if i>3 else i for i in num]\n",
    "print(fil)"
   ]
  },
  {
   "cell_type": "code",
   "execution_count": 20,
   "id": "f06d8a9f-e723-4452-90a8-34f87f6e29f9",
   "metadata": {},
   "outputs": [
    {
     "data": {
      "text/plain": [
       "[2, 15, 4, 5]"
      ]
     },
     "execution_count": 20,
     "metadata": {},
     "output_type": "execute_result"
    }
   ],
   "source": [
    "a = [1, 2, 3, 4, 5]\n",
    "list(map(lambda i: i * 5, a))\n",
    "[i*5 if i == 3 else i for i in a if i>1]"
   ]
  },
  {
   "cell_type": "code",
   "execution_count": 24,
   "id": "1f5c838c-2dbf-47d1-90af-dc8721b40ab9",
   "metadata": {},
   "outputs": [
    {
     "data": {
      "text/plain": [
       "15"
      ]
     },
     "execution_count": 24,
     "metadata": {},
     "output_type": "execute_result"
    }
   ],
   "source": [
    "sum([i for i in [1,2,3,4,5]])"
   ]
  },
  {
   "cell_type": "code",
   "execution_count": 32,
   "id": "da0860df-8291-4fb7-b0a4-fe3cb5667ded",
   "metadata": {},
   "outputs": [
    {
     "data": {
      "text/plain": [
       "[1, 2, 2, 2, 5, 5, 5]"
      ]
     },
     "execution_count": 32,
     "metadata": {},
     "output_type": "execute_result"
    }
   ],
   "source": [
    "a = [[1,2],[2],[2,5,5,5]]\n",
    "[item for i in a for item in i]"
   ]
  },
  {
   "cell_type": "code",
   "execution_count": 36,
   "id": "947e52f8-488c-4561-8b49-86f27c121a63",
   "metadata": {},
   "outputs": [
    {
     "data": {
      "text/plain": [
       "[0, 1, 2, 3]"
      ]
     },
     "execution_count": 36,
     "metadata": {},
     "output_type": "execute_result"
    }
   ],
   "source": [
    "[i for i in range(4)]"
   ]
  },
  {
   "cell_type": "code",
   "execution_count": 40,
   "id": "61c964ae-af23-44ca-a1ec-b8196b86f161",
   "metadata": {},
   "outputs": [
    {
     "data": {
      "text/plain": [
       "(0, 1, 2, 3, 4, 5, 6, 7, 8, 9)"
      ]
     },
     "execution_count": 40,
     "metadata": {},
     "output_type": "execute_result"
    }
   ],
   "source": [
    "*(i for  i in range(10)),"
   ]
  },
  {
   "cell_type": "code",
   "execution_count": 46,
   "id": "ef31a171-e136-4e9f-b3d8-6c93c066e624",
   "metadata": {},
   "outputs": [
    {
     "data": {
      "text/plain": [
       "[[8, 45, 11], [12, 14, 23], [89, 45, 78]]"
      ]
     },
     "execution_count": 46,
     "metadata": {},
     "output_type": "execute_result"
    }
   ],
   "source": [
    "num = [11,45,8,23,14,12,78,45,89]\n",
    "n = len(num)//3\n",
    "a = [num[i:i+3][::-1]for i in range(0, len(num),n)]\n",
    "a"
   ]
  },
  {
   "cell_type": "code",
   "execution_count": 48,
   "id": "d466e2c6-1501-4185-bbaa-752d91e7af66",
   "metadata": {},
   "outputs": [
    {
     "data": {
      "text/plain": [
       "[4, 16, 36]"
      ]
     },
     "execution_count": 48,
     "metadata": {},
     "output_type": "execute_result"
    }
   ],
   "source": [
    "# How would you create a new list that contains the squares of all even numbers\n",
    "# from an existing list using list comprehension in Python?\n",
    "l = [1, 2, 3, 4, 5, 6]\n",
    "a = [i**2 for i in l if i%2==0]\n",
    "a"
   ]
  },
  {
   "cell_type": "code",
   "execution_count": 52,
   "id": "46eea81d-da91-45a8-928e-f8d13f206fc1",
   "metadata": {},
   "outputs": [
    {
     "data": {
      "text/plain": [
       "[1, 2, 3, 4, 5, 6, 7, 8, 9, 10]"
      ]
     },
     "execution_count": 52,
     "metadata": {},
     "output_type": "execute_result"
    }
   ],
   "source": [
    "# How can you create a list of the first 10 positive integers using\n",
    "# list comprehension?\n",
    "a = [i for i in range(1, 11)]\n",
    "a"
   ]
  },
  {
   "cell_type": "code",
   "execution_count": 54,
   "id": "4101fae2-143c-487d-b91c-474424a11c7d",
   "metadata": {},
   "outputs": [
    {
     "data": {
      "text/plain": [
       "[1, 4, 9, 16, 25, 36, 49, 64, 81, 100]"
      ]
     },
     "execution_count": 54,
     "metadata": {},
     "output_type": "execute_result"
    }
   ],
   "source": [
    "# How can you generate a list of squares for numbers from 1 to 10\n",
    "# using list comprehension?\n",
    "[i**2 for i in range(1, 11)]"
   ]
  },
  {
   "cell_type": "code",
   "execution_count": 56,
   "id": "c6b43681-41ca-4018-ac20-adf8528fd3db",
   "metadata": {},
   "outputs": [
    {
     "data": {
      "text/plain": [
       "[2, 4, 6, 8, 10, 12, 14, 16, 18, 20]"
      ]
     },
     "execution_count": 56,
     "metadata": {},
     "output_type": "execute_result"
    }
   ],
   "source": [
    "# How can you create a list of even numbers from 1 to 20 using list comprehension?\n",
    "[i for i in range(1, 21) if i % 2 == 0]"
   ]
  },
  {
   "cell_type": "code",
   "execution_count": 58,
   "id": "64e30e2d-2db1-485d-9030-f6e38bb44a18",
   "metadata": {},
   "outputs": [
    {
     "data": {
      "text/plain": [
       "['HAIR', 'CARE', 'DARE']"
      ]
     },
     "execution_count": 58,
     "metadata": {},
     "output_type": "execute_result"
    }
   ],
   "source": [
    "# How can you create a list of uppercase versions of strings in a given list\n",
    "# using list comprehension?\n",
    "a = ['Hair', 'Care', 'Dare']\n",
    "[i.upper() for i in a]"
   ]
  },
  {
   "cell_type": "code",
   "execution_count": 60,
   "id": "182aee4f-161f-4cd8-8698-95baeb0d1560",
   "metadata": {},
   "outputs": [
    {
     "data": {
      "text/plain": [
       "[(1, 4), (1, 5), (1, 6), (2, 4), (2, 5), (2, 6), (3, 4), (3, 5), (3, 6)]"
      ]
     },
     "execution_count": 60,
     "metadata": {},
     "output_type": "execute_result"
    }
   ],
   "source": [
    "# How can you create a list of all possible pairs (x, y) where x is from \n",
    "# [1, 2, 3] and y is from [4, 5, 6] using list comprehension?\n",
    "x = [1, 2, 3]\n",
    "y = [4, 5, 6]\n",
    "[(i, j) for i in x for j in y]"
   ]
  },
  {
   "cell_type": "code",
   "execution_count": 66,
   "id": "acbdc897-10f0-4345-acb2-0c5b6888f24c",
   "metadata": {},
   "outputs": [
    {
     "data": {
      "text/plain": [
       "[3, 4, 9, 8, 15, 12, 21, 16, 27, 20]"
      ]
     },
     "execution_count": 66,
     "metadata": {},
     "output_type": "execute_result"
    }
   ],
   "source": [
    "# How can you create a list that multiplies each odd number by 3 and each\n",
    "# even number by 2 from a list of numbers from 1 to 10 using list comprehension?\n",
    "[i*2 if i%2 == 0 else i*3 for i in range(1, 11) ]"
   ]
  },
  {
   "cell_type": "code",
   "execution_count": 68,
   "id": "953496ef-ab7e-4957-b222-6a65b0680538",
   "metadata": {},
   "outputs": [
    {
     "data": {
      "text/plain": [
       "[1, 2, 3, 4, 5, 6, 7, 8]"
      ]
     },
     "execution_count": 68,
     "metadata": {},
     "output_type": "execute_result"
    }
   ],
   "source": [
    "# How can you flatten a list of lists [[1, 2, 3], [4, 5], [6, 7, 8]]\n",
    "# into a single list using list comprehension?\n",
    "x = [[1, 2, 3], [4, 5], [6, 7, 8]]\n",
    "[item for i in x for item in i]"
   ]
  },
  {
   "cell_type": "code",
   "execution_count": 70,
   "id": "912fe9fa-6fb6-4a00-b4e8-675bd15d5702",
   "metadata": {},
   "outputs": [
    {
     "data": {
      "text/plain": [
       "[5, 5, 6]"
      ]
     },
     "execution_count": 70,
     "metadata": {},
     "output_type": "execute_result"
    }
   ],
   "source": [
    "# How can you create a list of the lengths of each word in the list \n",
    "# ['hello', 'world', 'Python'] using list comprehension?\n",
    "x = ['hello', 'world', 'Python']\n",
    "[len(i) for i in x]"
   ]
  },
  {
   "cell_type": "code",
   "execution_count": 72,
   "id": "896c0a7a-b05d-4277-a00d-19c9388cc367",
   "metadata": {},
   "outputs": [
    {
     "data": {
      "text/plain": [
       "{1: 1, 2: 4, 3: 9, 4: 16, 5: 25}"
      ]
     },
     "execution_count": 72,
     "metadata": {},
     "output_type": "execute_result"
    }
   ],
   "source": [
    "# How can you create a dictionary mapping each number to its square \n",
    "# for numbers from 1 to 5 using a comprehension?\n",
    "{i:i**2 for i in range(1, 6)}"
   ]
  },
  {
   "cell_type": "code",
   "execution_count": 84,
   "id": "a89f6d43-4962-48e8-af6c-b96386c39563",
   "metadata": {},
   "outputs": [
    {
     "data": {
      "text/plain": [
       "['1', '2', '3']"
      ]
     },
     "execution_count": 84,
     "metadata": {},
     "output_type": "execute_result"
    }
   ],
   "source": [
    "# How can you create a list of digits from a string 'a1b2c3' using \n",
    "# list comprehension?\n",
    "string = 'a1b2c3'\n",
    "[int(i) for i in string if i.isdigit()]"
   ]
  },
  {
   "cell_type": "code",
   "execution_count": 95,
   "id": "45e8edb1-db1a-4636-8176-d9c665adcdff",
   "metadata": {},
   "outputs": [
    {
     "data": {
      "text/plain": [
       "['A', 'B', 'c']"
      ]
     },
     "execution_count": 95,
     "metadata": {},
     "output_type": "execute_result"
    }
   ],
   "source": [
    "strings = ['Apple', 'Banana', 'cherry']\n",
    "[i[0] for i in strings]"
   ]
  },
  {
   "cell_type": "code",
   "execution_count": 105,
   "id": "75f3eb29-b659-43f3-87dd-edc58fbb4b51",
   "metadata": {},
   "outputs": [
    {
     "data": {
      "text/plain": [
       "{'R', 'n', 's', 'v'}"
      ]
     },
     "execution_count": 105,
     "metadata": {},
     "output_type": "execute_result"
    }
   ],
   "source": [
    "# How can you create a set of non-vowel character \n",
    "# from a string using set comprehension?\n",
    "a = \"Rasveen\"\n",
    "v = ['a', 'e', 'i', 'o', 'u']\n",
    "{i for i in a if i not in v}"
   ]
  },
  {
   "cell_type": "code",
   "execution_count": 111,
   "id": "e1ee0bda-a629-461d-9bef-adfa7acec0d9",
   "metadata": {},
   "outputs": [
    {
     "data": {
      "text/plain": [
       "{1: 1, 2: 4, 3: 9, 4: 16, 5: 25}"
      ]
     },
     "execution_count": 111,
     "metadata": {},
     "output_type": "execute_result"
    }
   ],
   "source": [
    "# How can you create a dictionary where the keys are numbers from 1 to 5 \n",
    "# and the values are their squares using a dictionary comprehension?\n",
    "{i:i**2 for i in range(1, 6)}"
   ]
  },
  {
   "cell_type": "code",
   "execution_count": 113,
   "id": "eee0ece9-6b00-405e-8a19-e75a35cbfb64",
   "metadata": {},
   "outputs": [
    {
     "data": {
      "text/plain": [
       "{'apple': 5, 'banana': 6, 'cherry': 6}"
      ]
     },
     "execution_count": 113,
     "metadata": {},
     "output_type": "execute_result"
    }
   ],
   "source": [
    "# How can you create a dictionary from a list of words where the keys are the \n",
    "# words and the values are the lengths of those words using a \n",
    "# dictionary comprehension?\n",
    "words = [\"apple\", \"banana\", \"cherry\"]\n",
    "{i:len(i) for i in words}"
   ]
  },
  {
   "cell_type": "code",
   "execution_count": 115,
   "id": "066695a1-0b7f-42f6-9ab2-a1203b3caf72",
   "metadata": {},
   "outputs": [
    {
     "data": {
      "text/plain": [
       "{'A': 65,\n",
       " 'B': 66,\n",
       " 'C': 67,\n",
       " 'D': 68,\n",
       " 'E': 69,\n",
       " 'F': 70,\n",
       " 'G': 71,\n",
       " 'H': 72,\n",
       " 'I': 73,\n",
       " 'J': 74,\n",
       " 'K': 75,\n",
       " 'L': 76,\n",
       " 'M': 77,\n",
       " 'N': 78,\n",
       " 'O': 79,\n",
       " 'P': 80,\n",
       " 'Q': 81,\n",
       " 'R': 82,\n",
       " 'S': 83,\n",
       " 'T': 84,\n",
       " 'U': 85,\n",
       " 'V': 86,\n",
       " 'W': 87,\n",
       " 'X': 88,\n",
       " 'Y': 89,\n",
       " 'Z': 90}"
      ]
     },
     "execution_count": 115,
     "metadata": {},
     "output_type": "execute_result"
    }
   ],
   "source": [
    "# How can you create a dictionary that maps each character to its ASCII value \n",
    "# for all uppercase English letters using a dictionary comprehension?\n",
    "{chr(i):i for i in range(65, 91)}"
   ]
  },
  {
   "cell_type": "code",
   "execution_count": 127,
   "id": "4d974376-e345-4aa9-b426-ab45e56b5f79",
   "metadata": {},
   "outputs": [
    {
     "data": {
      "text/plain": [
       "{1: 'odd', 2: 'even', 3: 'odd', 4: 'even', 5: 'odd'}"
      ]
     },
     "execution_count": 127,
     "metadata": {},
     "output_type": "execute_result"
    }
   ],
   "source": [
    "# How can you create a dictionary where the keys are numbers from 1 to 5 \n",
    "# and the values are \"even\" or \"odd\" depending on whether the number is even or \n",
    "# odd using a dictionary comprehension?\n",
    "{i:(\"even\" if i%2 == 0 else \"odd\") for i in range(1, 6)}"
   ]
  },
  {
   "cell_type": "code",
   "execution_count": 137,
   "id": "e714e9a3-9349-4c4e-9309-dd6ec414df98",
   "metadata": {},
   "outputs": [
    {
     "data": {
      "text/plain": [
       "{'c': 3, 'd': 4}"
      ]
     },
     "execution_count": 137,
     "metadata": {},
     "output_type": "execute_result"
    }
   ],
   "source": [
    "original_dict = {'a': 1, 'b': 2, 'c': 3, 'd': 4}\n",
    "{i:j for i, j in original_dict.items() if j>2}"
   ]
  },
  {
   "cell_type": "code",
   "execution_count": 141,
   "id": "7a1e5480-69f8-4746-b18d-f9861ade2b63",
   "metadata": {},
   "outputs": [
    {
     "data": {
      "text/plain": [
       "{1: [1], 2: [1, 2], 3: [1, 3], 4: [1, 2, 4], 5: [1, 5]}"
      ]
     },
     "execution_count": 141,
     "metadata": {},
     "output_type": "execute_result"
    }
   ],
   "source": [
    "{i:[j for j in range(1, i+1) if i%j == 0]for i in range(1, 6)}"
   ]
  },
  {
   "cell_type": "code",
   "execution_count": null,
   "id": "93276731-4baf-44ba-a38a-735fbabc5775",
   "metadata": {},
   "outputs": [],
   "source": []
  }
 ],
 "metadata": {
  "kernelspec": {
   "display_name": "Python 3 (ipykernel)",
   "language": "python",
   "name": "python3"
  },
  "language_info": {
   "codemirror_mode": {
    "name": "ipython",
    "version": 3
   },
   "file_extension": ".py",
   "mimetype": "text/x-python",
   "name": "python",
   "nbconvert_exporter": "python",
   "pygments_lexer": "ipython3",
   "version": "3.12.4"
  }
 },
 "nbformat": 4,
 "nbformat_minor": 5
}
