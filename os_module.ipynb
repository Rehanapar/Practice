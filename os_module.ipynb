{
 "cells": [
  {
   "cell_type": "code",
   "execution_count": 1,
   "id": "02f2f5b5-216c-4436-81bf-237046668b88",
   "metadata": {},
   "outputs": [
    {
     "name": "stdout",
     "output_type": "stream",
     "text": [
      "['DirEntry', 'EX_OK', 'F_OK', 'GenericAlias', 'Mapping', 'MutableMapping', 'O_APPEND', 'O_BINARY', 'O_CREAT', 'O_EXCL', 'O_NOINHERIT', 'O_RANDOM', 'O_RDONLY', 'O_RDWR', 'O_SEQUENTIAL', 'O_SHORT_LIVED', 'O_TEMPORARY', 'O_TEXT', 'O_TRUNC', 'O_WRONLY', 'P_DETACH', 'P_NOWAIT', 'P_NOWAITO', 'P_OVERLAY', 'P_WAIT', 'PathLike', 'R_OK', 'SEEK_CUR', 'SEEK_END', 'SEEK_SET', 'TMP_MAX', 'W_OK', 'X_OK', '_AddedDllDirectory', '_Environ', '__all__', '__builtins__', '__doc__', '__file__', '__loader__', '__name__', '__package__', '__spec__', '_check_methods', '_execvpe', '_exists', '_exit', '_fspath', '_get_exports_list', '_walk_symlinks_as_files', '_wrap_close', 'abc', 'abort', 'access', 'add_dll_directory', 'altsep', 'chdir', 'chmod', 'close', 'closerange', 'cpu_count', 'curdir', 'defpath', 'device_encoding', 'devnull', 'dup', 'dup2', 'environ', 'error', 'execl', 'execle', 'execlp', 'execlpe', 'execv', 'execve', 'execvp', 'execvpe', 'extsep', 'fdopen', 'fsdecode', 'fsencode', 'fspath', 'fstat', 'fsync', 'ftruncate', 'get_blocking', 'get_exec_path', 'get_handle_inheritable', 'get_inheritable', 'get_terminal_size', 'getcwd', 'getcwdb', 'getenv', 'getlogin', 'getpid', 'getppid', 'isatty', 'kill', 'linesep', 'link', 'listdir', 'listdrives', 'listmounts', 'listvolumes', 'lseek', 'lstat', 'makedirs', 'mkdir', 'name', 'open', 'pardir', 'path', 'pathsep', 'pipe', 'popen', 'putenv', 'read', 'readlink', 'remove', 'removedirs', 'rename', 'renames', 'replace', 'rmdir', 'scandir', 'sep', 'set_blocking', 'set_handle_inheritable', 'set_inheritable', 'spawnl', 'spawnle', 'spawnv', 'spawnve', 'st', 'startfile', 'stat', 'stat_result', 'statvfs_result', 'strerror', 'supports_bytes_environ', 'supports_dir_fd', 'supports_effective_ids', 'supports_fd', 'supports_follow_symlinks', 'symlink', 'sys', 'system', 'terminal_size', 'times', 'times_result', 'truncate', 'umask', 'uname_result', 'unlink', 'unsetenv', 'urandom', 'utime', 'waitpid', 'waitstatus_to_exitcode', 'walk', 'write']\n"
     ]
    }
   ],
   "source": [
    "import os\n",
    "print(dir(os))"
   ]
  },
  {
   "cell_type": "code",
   "execution_count": 18,
   "id": "d5aa9e35-7a8c-4b32-8b60-a870d1f3e015",
   "metadata": {},
   "outputs": [
    {
     "name": "stdout",
     "output_type": "stream",
     "text": [
      "D:\\class\n",
      "['.ipynb_checkpoints', '.virtual_documents', 'class.ipynb', 'files.ipynb', 'list_com.ipynb', 'new_file.txt', 'os_module.ipynb']\n",
      "None\n",
      "D:\\GitTEST\n",
      "None\n",
      "D:\\class\n",
      "['.ipynb_checkpoints', '.virtual_documents', 'class.ipynb', 'files.ipynb', 'list_com.ipynb', 'new_file.txt', 'os_module.ipynb']\n"
     ]
    }
   ],
   "source": [
    "import os\n",
    "print(os.getcwd())\n",
    "print(os.listdir())\n",
    "print(os.chdir(r\"D:\\GitTEST\"))\n",
    "print(os.getcwd())\n",
    "print(os.chdir(r\"D:\\class\"))\n",
    "print(os.getcwd())\n",
    "print(os.listdir())"
   ]
  },
  {
   "cell_type": "code",
   "execution_count": 30,
   "id": "73ef49ae-fe09-4ff7-aa37-fc20c51bc86c",
   "metadata": {},
   "outputs": [
    {
     "name": "stdout",
     "output_type": "stream",
     "text": [
      "['.ipynb_checkpoints', '.virtual_documents', 'class.ipynb', 'files.ipynb', 'list_com.ipynb', 'new_file.txt', 'oper_sys', 'os_module.ipynb']\n"
     ]
    }
   ],
   "source": [
    "import os\n",
    "# print(os.mkdir(\"oper_sys\"))\n",
    "# print(os.rmdir(\"oper_sys\"))\n",
    "print(os.listdir())"
   ]
  },
  {
   "cell_type": "code",
   "execution_count": 32,
   "id": "9f83e5bb-d7b2-4a71-bd63-0d541b4ecb57",
   "metadata": {},
   "outputs": [
    {
     "name": "stdout",
     "output_type": "stream",
     "text": [
      "['.ipynb_checkpoints', '.virtual_documents', 'class.ipynb', 'files.ipynb', 'list_com.ipynb', 'old_file.txt', 'oper_sys', 'os_module.ipynb']\n"
     ]
    }
   ],
   "source": [
    "import os\n",
    "os.rename(\"new_file.txt\", \"old_file.txt\")\n",
    "print(os.listdir())"
   ]
  },
  {
   "cell_type": "code",
   "execution_count": 36,
   "id": "bc510db2-b767-4271-830f-83d0a044f974",
   "metadata": {},
   "outputs": [
    {
     "name": "stdout",
     "output_type": "stream",
     "text": [
      "os.stat_result(st_mode=33206, st_ino=14073748835541508, st_dev=4662442239854803836, st_nlink=1, st_uid=0, st_gid=0, st_size=48, st_atime=1724573211, st_mtime=1724437773, st_ctime=1724429633)\n",
      "48\n"
     ]
    }
   ],
   "source": [
    "import os\n",
    "print(os.stat(\"old_file.txt\"))\n",
    "print(os.stat(\"old_file.txt\").st_size)"
   ]
  },
  {
   "cell_type": "code",
   "execution_count": 46,
   "id": "1387e2a5-0e57-44fb-8b17-e75729daa1a7",
   "metadata": {},
   "outputs": [
    {
     "name": "stdout",
     "output_type": "stream",
     "text": [
      "0\n",
      "<os._wrap_close object at 0x000002C615C28B60>\n",
      " Volume in drive D has no label.\n",
      " Volume Serial Number is B452-7B7C\n",
      "\n",
      " Directory of D:\\class\n",
      "\n",
      "25-08-2024  14:25    <DIR>          .\n",
      "24-08-2024  23:39    <DIR>          .ipynb_checkpoints\n",
      "25-08-2024  13:37    <DIR>          .virtual_documents\n",
      "24-08-2024  11:36             7,492 class.ipynb\n",
      "24-08-2024  00:15             1,722 files.ipynb\n",
      "24-08-2024  21:54            14,481 list_com.ipynb\n",
      "23-08-2024  23:59                48 old_file.txt\n",
      "25-08-2024  14:03    <DIR>          oper_sys\n",
      "25-08-2024  14:25             5,886 os_module.ipynb\n",
      "               5 File(s)         29,629 bytes\n",
      "               4 Dir(s)  45,172,080,640 bytes free\n",
      "\n"
     ]
    }
   ],
   "source": [
    "import os\n",
    "# popen , system are 2 import fuction\n",
    "print(os.system(\"dir\"))\n",
    "print(os.popen(\"dir\"))\n",
    "print(os.popen(\"dir\").read())"
   ]
  },
  {
   "cell_type": "code",
   "execution_count": 52,
   "id": "331608b7-1e37-4418-820e-1ac85fe07259",
   "metadata": {},
   "outputs": [
    {
     "name": "stdout",
     "output_type": "stream",
     "text": [
      "<generator object walk at 0x000002C6167F9460>\n",
      "('D:\\\\class', ['.ipynb_checkpoints', '.virtual_documents', 'oper_sys'], ['class.ipynb', 'files.ipynb', 'list_com.ipynb', 'old_file.txt', 'os_module.ipynb'])\n"
     ]
    }
   ],
   "source": [
    "import os\n",
    "print(os.walk(os.getcwd()))\n",
    "print(next(os.walk(os.getcwd())))"
   ]
  },
  {
   "cell_type": "code",
   "execution_count": 54,
   "id": "1168d33c-e4a1-4a46-b335-e69509bf5999",
   "metadata": {},
   "outputs": [
    {
     "name": "stdout",
     "output_type": "stream",
     "text": [
      "['_LCMAP_LOWERCASE', '_LCMapStringEx', '_LOCALE_NAME_INVARIANT', '__all__', '__builtins__', '__doc__', '__file__', '__loader__', '__name__', '__package__', '__spec__', '_abspath_fallback', '_get_bothseps', '_getfinalpathname', '_getfinalpathname_nonstrict', '_getfullpathname', '_getvolumepathname', '_nt_readlink', '_path_isdevdrive', '_readlink_deep', 'abspath', 'altsep', 'basename', 'commonpath', 'commonprefix', 'curdir', 'defpath', 'devnull', 'dirname', 'exists', 'expanduser', 'expandvars', 'extsep', 'genericpath', 'getatime', 'getctime', 'getmtime', 'getsize', 'isabs', 'isdevdrive', 'isdir', 'isfile', 'isjunction', 'islink', 'ismount', 'join', 'lexists', 'normcase', 'normpath', 'os', 'pardir', 'pathsep', 'realpath', 'relpath', 'samefile', 'sameopenfile', 'samestat', 'sep', 'split', 'splitdrive', 'splitext', 'splitroot', 'stat', 'supports_unicode_filenames', 'sys']\n"
     ]
    }
   ],
   "source": [
    "from os import path\n",
    "print(dir(path))"
   ]
  },
  {
   "cell_type": "code",
   "execution_count": 58,
   "id": "c5125c9c-5d30-4090-bdb6-2f7e145be9e4",
   "metadata": {},
   "outputs": [
    {
     "name": "stdout",
     "output_type": "stream",
     "text": [
      "('D:\\\\class', '.ipynb_checkpoints')\n",
      "('D:\\\\class', '.virtual_documents')\n",
      "('D:\\\\class', 'class.ipynb')\n",
      "('D:\\\\class', 'files.ipynb')\n",
      "('D:\\\\class', 'list_com.ipynb')\n",
      "('D:\\\\class', 'old_file.txt')\n",
      "('D:\\\\class', 'oper_sys')\n",
      "('D:\\\\class', 'os_module.ipynb')\n"
     ]
    }
   ],
   "source": [
    "import os\n",
    "from os import path\n",
    "files = os.listdir()\n",
    "for file in files:\n",
    "    fullpath = path.join(os.getcwd(), file)\n",
    "    print(path.split(fullpath))"
   ]
  },
  {
   "cell_type": "code",
   "execution_count": null,
   "id": "6fa3f8e0-e5e5-426d-a875-aa15adb70b2a",
   "metadata": {},
   "outputs": [],
   "source": []
  }
 ],
 "metadata": {
  "kernelspec": {
   "display_name": "Python 3 (ipykernel)",
   "language": "python",
   "name": "python3"
  },
  "language_info": {
   "codemirror_mode": {
    "name": "ipython",
    "version": 3
   },
   "file_extension": ".py",
   "mimetype": "text/x-python",
   "name": "python",
   "nbconvert_exporter": "python",
   "pygments_lexer": "ipython3",
   "version": "3.12.4"
  }
 },
 "nbformat": 4,
 "nbformat_minor": 5
}
