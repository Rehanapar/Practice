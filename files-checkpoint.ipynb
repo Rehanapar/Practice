{
 "cells": [
  {
   "cell_type": "code",
   "execution_count": 48,
   "id": "e0212e73-cd6d-45c0-bf24-bdba17b27e2c",
   "metadata": {},
   "outputs": [],
   "source": [
    "# File = open(\"new_file.txt\", 'r')\n",
    "# # print(File.read())\n",
    "# # print(File.readline())\n",
    "# # print(File.readlines())\n",
    "# print(File.read(1))\n",
    "# File.close()\n",
    "# File = open(\"new_file.txt\", 'a')\n",
    "# File.write(\" Welcome back\")\n",
    "# File.close()\n",
    "File = open(\"new_file.txt\", 'a')\n",
    "l = [\"hiiiiii\"]\n",
    "File.writelines(\" Welcome back to\")\n",
    "File.close()\n",
    "\n"
   ]
  },
  {
   "cell_type": "code",
   "execution_count": null,
   "id": "34f3d9fb-0466-4df2-aa36-97c7b554e096",
   "metadata": {},
   "outputs": [],
   "source": [
    "# File = open(\"new_file.txt\", 'w')\n",
    "# File.write(\"Welcome\")\n",
    "# File.close()"
   ]
  },
  {
   "cell_type": "code",
   "execution_count": null,
   "id": "b74c934c-2e1d-42b0-b0f3-174a542dd6cc",
   "metadata": {},
   "outputs": [],
   "source": []
  }
 ],
 "metadata": {
  "kernelspec": {
   "display_name": "Python 3 (ipykernel)",
   "language": "python",
   "name": "python3"
  },
  "language_info": {
   "codemirror_mode": {
    "name": "ipython",
    "version": 3
   },
   "file_extension": ".py",
   "mimetype": "text/x-python",
   "name": "python",
   "nbconvert_exporter": "python",
   "pygments_lexer": "ipython3",
   "version": "3.12.4"
  }
 },
 "nbformat": 4,
 "nbformat_minor": 5
}
