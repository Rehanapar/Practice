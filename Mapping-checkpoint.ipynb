{
 "cells": [
  {
   "cell_type": "code",
   "execution_count": 4,
   "id": "7d3b75df-0e45-4c97-9708-150535c9d88a",
   "metadata": {},
   "outputs": [],
   "source": [
    "import pandas as pd"
   ]
  },
  {
   "cell_type": "code",
   "execution_count": null,
   "id": "103296cc-7eca-4418-8b38-fb2044665dac",
   "metadata": {},
   "outputs": [],
   "source": [
    "df = pd.read_excel(\"EXCEL_catalog.xlsx\")\n",
    "\n",
    "column_mapping = {\n",
    "    \"ref\":\"CODE\"\n",
    "    # \"categorie\":\"TYPE\"\n",
    "    # \"title\":\"HEADING\"\n",
    "    # \"LABELS\":\"tags\"\n",
    "    # \"price\":\"COST\"\n",
    "    # \"description\":\"DETAILS\"\n",
    "    # 'OldColumnName1': 'NewColumnName1',\n",
    "    # 'OldColumnName2': 'NewColumnName2',\n",
    "    # Add more column mappings as needed\n",
    "}\n",
    "\n",
    "\n",
    "df = df.rename(columns=column_mapping)\n",
    "\n",
    "# Step 3: Write the DataFrame to a CSV file\n",
    "# csv_file_path = 'your_output_file.csv'  # Replace with your desired CSV file path\n",
    "df.to_csv(\"CSV_catalog.csv\", index=False)\n",
    "\n",
    "print(f\"Data has been successfully exported\")"
   ]
  }
 ],
 "metadata": {
  "kernelspec": {
   "display_name": "Python 3 (ipykernel)",
   "language": "python",
   "name": "python3"
  },
  "language_info": {
   "codemirror_mode": {
    "name": "ipython",
    "version": 3
   },
   "file_extension": ".py",
   "mimetype": "text/x-python",
   "name": "python",
   "nbconvert_exporter": "python",
   "pygments_lexer": "ipython3",
   "version": "3.12.4"
  }
 },
 "nbformat": 4,
 "nbformat_minor": 5
}
