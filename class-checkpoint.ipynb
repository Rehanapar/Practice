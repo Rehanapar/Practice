{
 "cells": [
  {
   "cell_type": "code",
   "execution_count": 3,
   "id": "7b557a3d-d978-4278-bcba-5a2a9ede7060",
   "metadata": {},
   "outputs": [
    {
     "name": "stdin",
     "output_type": "stream",
     "text": [
      " p\n"
     ]
    },
    {
     "name": "stdout",
     "output_type": "stream",
     "text": [
      "The ASCII value of p : 112\n"
     ]
    }
   ],
   "source": [
    "a = input()\n",
    "print(\"The ASCII value of\", a,\":\",ord(a))\n"
   ]
  },
  {
   "cell_type": "code",
   "execution_count": 15,
   "id": "05865db6-ef36-4bfe-99a5-f62df47c3e7e",
   "metadata": {},
   "outputs": [
    {
     "name": "stdin",
     "output_type": "stream",
     "text": [
      " 2 3 4 9 8\n"
     ]
    },
    {
     "name": "stdout",
     "output_type": "stream",
     "text": [
      "8\n"
     ]
    }
   ],
   "source": [
    "a = input().split()\n",
    "b = [int(char) for char in a]\n",
    "c = max(b)\n",
    "d = b.remove(c)\n",
    "print(max(b))"
   ]
  },
  {
   "cell_type": "code",
   "execution_count": 17,
   "id": "ef248895-f929-4de8-93c2-379455950352",
   "metadata": {},
   "outputs": [
    {
     "name": "stdin",
     "output_type": "stream",
     "text": [
      " 3 4 3 5 3 4 3\n",
      " 3\n"
     ]
    },
    {
     "name": "stdout",
     "output_type": "stream",
     "text": [
      "4\n"
     ]
    }
   ],
   "source": [
    "a = input().split()\n",
    "b = input()\n",
    "c = a.count(b)\n",
    "print(c)"
   ]
  },
  {
   "cell_type": "code",
   "execution_count": 23,
   "id": "0224111b-4074-4fe4-8377-629f58a3894a",
   "metadata": {},
   "outputs": [
    {
     "name": "stdin",
     "output_type": "stream",
     "text": [
      " Mumbai\n",
      " bai\n"
     ]
    },
    {
     "name": "stdout",
     "output_type": "stream",
     "text": [
      "true\n"
     ]
    }
   ],
   "source": [
    "a = input()\n",
    "b = input()\n",
    "if b in a:\n",
    "    print(\"true\")\n",
    "else:\n",
    "    print(\"false\")\n",
    "   "
   ]
  },
  {
   "cell_type": "code",
   "execution_count": 27,
   "id": "d942e52f-62fb-4c7e-85ba-050e664a6631",
   "metadata": {},
   "outputs": [
    {
     "name": "stdin",
     "output_type": "stream",
     "text": [
      " the\n"
     ]
    },
    {
     "name": "stdout",
     "output_type": "stream",
     "text": [
      "Not\n"
     ]
    }
   ],
   "source": [
    "def check(string):\n",
    "    string = string.lower()\n",
    "    vowels = set(\"aeiou\")\n",
    "    s = set({})\n",
    "    for char in string:\n",
    "        if char in vowels:\n",
    "            s.add(char)\n",
    "        else:\n",
    "            pass\n",
    "    if len(vowels) == len(s):\n",
    "        print(\"Present\")\n",
    "    else:\n",
    "        print(\"Not\")\n",
    "\n",
    "string = input()\n",
    "check(string)  "
   ]
  },
  {
   "cell_type": "code",
   "execution_count": 31,
   "id": "6010c707-4630-464e-8f02-5c1b1995e712",
   "metadata": {},
   "outputs": [
    {
     "name": "stdin",
     "output_type": "stream",
     "text": [
      " tdgdfyjeesdfd\n"
     ]
    },
    {
     "name": "stdout",
     "output_type": "stream",
     "text": [
      "no\n"
     ]
    }
   ],
   "source": [
    "# To check if a string contain any special character\n",
    "import string\n",
    "\n",
    "a = input()\n",
    "b = set(string.punctuation)\n",
    "c = any(char in b for char in a)\n",
    "if c:\n",
    "    print(\"ys\")\n",
    "else:\n",
    "    print(\"no\")\n"
   ]
  },
  {
   "cell_type": "code",
   "execution_count": 47,
   "id": "5e6ecf89-8656-41c7-82e0-96b9f7d6b629",
   "metadata": {},
   "outputs": [
    {
     "name": "stdout",
     "output_type": "stream",
     "text": [
      "5\n"
     ]
    }
   ],
   "source": [
    "# string = \"Hello, World!\"\n",
    "# length = string.count('') - 1\n",
    "# print(f\"Length of the string using str.count(): {length}\")\n",
    "\n",
    "a = \"Hello\"\n",
    "l = a.count(\"\") - 1\n",
    "print(l)\n"
   ]
  },
  {
   "cell_type": "code",
   "execution_count": 69,
   "id": "339f8e57-1d5d-4500-8d4f-15a1d51bb495",
   "metadata": {},
   "outputs": [
    {
     "name": "stdout",
     "output_type": "stream",
     "text": [
      "Found URLs:\n",
      "https://www.example.com\n",
      "http://example.org!\n"
     ]
    }
   ],
   "source": [
    "import re\n",
    "\n",
    "# Sample string to check for URLs\n",
    "text = \"Check out this website: https://www.example.com and also http://example.org!\"\n",
    "\n",
    "# Regex pattern for URL\n",
    "url_pattern = re.compile(r'(https?://[^\\s]+)')\n",
    "\n",
    "# Find all URLs in the string\n",
    "urls = url_pattern.findall(text)\n",
    "\n",
    "if urls:\n",
    "    print(\"Found URLs:\")\n",
    "    for url in urls:\n",
    "        print(url)\n",
    "else:\n",
    "    print(\"No URLs found in the string.\")"
   ]
  },
  {
   "cell_type": "code",
   "execution_count": 2,
   "id": "dfa1ddc6-92fc-42b2-bb81-0661605c34c3",
   "metadata": {},
   "outputs": [
    {
     "name": "stdout",
     "output_type": "stream",
     "text": [
      "Rectangle Area: 20\n",
      "Rectangle Perimeter: 18\n",
      "Circle Area: 28.274333882308138\n",
      "Circle Perimeter: 18.84955592153876\n",
      "Shape Area: 0\n",
      "Shape Perimeter: 0\n"
     ]
    }
   ],
   "source": [
    "import math\n",
    "\n",
    "# Base class\n",
    "class Shape:\n",
    "    def area(self):\n",
    "        # Default implementation returns 0\n",
    "        return 0\n",
    "\n",
    "    def perimeter(self):\n",
    "        # Default implementation returns 0\n",
    "        return 0\n",
    "\n",
    "# Rectangle class\n",
    "class Rectangle(Shape):\n",
    "    def __init__(self, width, height):\n",
    "        self.width = width\n",
    "        self.height = height\n",
    "\n",
    "    def area(self):\n",
    "        return self.width * self.height\n",
    "\n",
    "    def perimeter(self):\n",
    "        return 2 * (self.width + self.height)\n",
    "\n",
    "# Circle class\n",
    "class Circle(Shape):\n",
    "    def __init__(self, radius):\n",
    "        self.radius = radius\n",
    "\n",
    "    def area(self):\n",
    "        return math.pi * (self.radius ** 2)\n",
    "\n",
    "    def perimeter(self):\n",
    "        return 2 * math.pi * self.radius\n",
    "\n",
    "# Example usage\n",
    "rectangle = Rectangle(4, 5)\n",
    "print(f\"Rectangle Area: {rectangle.area()}\")\n",
    "print(f\"Rectangle Perimeter: {rectangle.perimeter()}\")\n",
    "\n",
    "circle = Circle(3)\n",
    "print(f\"Circle Area: {circle.area()}\")\n",
    "print(f\"Circle Perimeter: {circle.perimeter()}\")\n",
    "\n",
    "# Example of base class usage\n",
    "shape = Shape()\n",
    "print(f\"Shape Area: {shape.area()}\")\n",
    "print(f\"Shape Perimeter: {shape.perimeter()}\")"
   ]
  },
  {
   "cell_type": "code",
   "execution_count": null,
   "id": "89c11935-4a7c-4f2f-b19b-875d6ae349f5",
   "metadata": {},
   "outputs": [],
   "source": []
  }
 ],
 "metadata": {
  "kernelspec": {
   "display_name": "Python 3 (ipykernel)",
   "language": "python",
   "name": "python3"
  },
  "language_info": {
   "codemirror_mode": {
    "name": "ipython",
    "version": 3
   },
   "file_extension": ".py",
   "mimetype": "text/x-python",
   "name": "python",
   "nbconvert_exporter": "python",
   "pygments_lexer": "ipython3",
   "version": "3.12.4"
  }
 },
 "nbformat": 4,
 "nbformat_minor": 5
}
